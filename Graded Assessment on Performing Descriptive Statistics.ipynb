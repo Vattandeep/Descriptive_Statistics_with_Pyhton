{
 "cells": [
  {
   "cell_type": "markdown",
   "id": "3e398abb-5136-46ca-af66-21cc1fe71c06",
   "metadata": {},
   "source": [
    "## SECTION- 1"
   ]
  },
  {
   "cell_type": "markdown",
   "id": "d7a045f5-98bd-43c1-a28e-174d83949fb6",
   "metadata": {},
   "source": [
    "# 1. A statistics test was conducted for 10 learners in a class. The mean of their score is 85 and the variance of the score is zero. What can you interpret about the score obtained by all learners?"
   ]
  },
  {
   "cell_type": "code",
   "execution_count": 1,
   "id": "f70ad306-e3eb-4d33-b148-a82d16a97a9f",
   "metadata": {},
   "outputs": [],
   "source": [
    "# Answer 1. --> Mean of the score of 10 students of a class is 85 and vairance is 0. \n",
    "# It means that the Standard Deviation is also ZERO as Std. Deviation is square root of variance."
   ]
  },
  {
   "cell_type": "markdown",
   "id": "90b33efc-184d-41ae-9df0-10cc10012330",
   "metadata": {},
   "source": [
    "# 2. In a residential locality, the mean size of the house is 2224 square feet and the median value of the house is 1500 square feet. What can you interpret about the skewness in the distribution of house size? Are there bigger or smaller houses in the residential locality?"
   ]
  },
  {
   "cell_type": "code",
   "execution_count": 2,
   "id": "b09884be-4f8c-4c8b-9701-d14aa52aa75c",
   "metadata": {},
   "outputs": [],
   "source": [
    "# Answer 2. --> \n",
    "# Mean sixe of house = 2224 sqft\n",
    "# Median value of house = 1500 sqft\n",
    "# Here Mean > Median which means that distribution of house size is Right Skewed or Positively Skewed. Bigger   houses in there in the locality."
   ]
  },
  {
   "cell_type": "markdown",
   "id": "b422ad4a-cb81-4fab-8c1f-3dcf4b2e33f6",
   "metadata": {},
   "source": [
    "# 3. The following table shows the mean and variance of the expenditure for two groups of people. You want to compare the variability in expenditure for both groups with respect to their mean. Which statistical measure would you use to evaluate the variability in expenditure? Please provide an explanation for your answer."
   ]
  },
  {
   "cell_type": "code",
   "execution_count": 3,
   "id": "a11d84f3-a0dc-440c-bfe3-ac6f90c372be",
   "metadata": {},
   "outputs": [],
   "source": [
    "# Answer 3. --> Measure of Dispersion will be used to find out the variability in expediture \n",
    "# because Mean and Standard Deviation is given where Sigma Rule (or Standard Deviation Rule) will be applied. \n",
    "# Mean + 3*Std.Dev. gives us 99.72% of confidence level."
   ]
  },
  {
   "cell_type": "markdown",
   "id": "703d8fa2-0544-48ab-a807-377b680af781",
   "metadata": {},
   "source": [
    "# 4. During the survey, the ages of 80 patients infected by COVID and admitted to one of the city hospitals were recorded and the collected data is represented in the less than cumulative frequency distribution table.\n",
    "# a. Which class interval has the highest frequency?\n",
    "# b. Which age was affected the least?\n",
    "# c. How many patients aged 45 years and above were admitted?\n",
    "# d. Which is the modal class interval in the above dataset\n",
    "# e. What is the median class interval of age?"
   ]
  },
  {
   "cell_type": "code",
   "execution_count": 4,
   "id": "d13e3792-7870-4fc4-8fb1-f934e62e5f14",
   "metadata": {},
   "outputs": [],
   "source": [
    "# Answer 4. --> a. Class interval with Highest frequency --> Age group 35-45\n",
    "# b. Age Group 55-65 was affected the least as there were lesser number of patients in this age group\n",
    "# c. 14+9 (From age groups 45-55 and 55-65), 25 aged 45 and above were admitted to hospital\n",
    "# d. Modal Class is the 35-45 as the value for Mode comes out to be 36.82\n",
    "# e. Median Class Interval of Age is 35-35 "
   ]
  },
  {
   "cell_type": "markdown",
   "id": "7c5f6457-19e1-45e4-8150-68619a3b7913",
   "metadata": {},
   "source": [
    "# 5. Assume you are the trader and you have invested over the years, and you are worried about the average return on investment. What average method would you use to compute the average return for the data given below?"
   ]
  },
  {
   "cell_type": "code",
   "execution_count": 5,
   "id": "419d8539-a178-4d70-9fcc-28b008b7ced1",
   "metadata": {},
   "outputs": [],
   "source": [
    "# Answer 5. --> Geometric Mean will be used to calculate Average Return."
   ]
  },
  {
   "cell_type": "markdown",
   "id": "5913ab11-8a2f-419a-a359-fd0356c60c1e",
   "metadata": {},
   "source": [
    "# 6. Suppose you have been told to measure the average height of all the males on the earth. What would be your strategy for the same? Would the average height be a parameter or a statistic? Justify your answer."
   ]
  },
  {
   "cell_type": "code",
   "execution_count": 6,
   "id": "cd4aaeb6-0cf6-4951-928d-7fb4f517c97f",
   "metadata": {},
   "outputs": [],
   "source": [
    "# Answer 6. --> We will be using sample from the universe as the population is very high. \n",
    "# For that reason Sample Variance method from Measure of Dispersion will be used to measure the average height."
   ]
  },
  {
   "cell_type": "markdown",
   "id": "c26af5c2-fa82-40ea-80ee-e66db8e68814",
   "metadata": {},
   "source": [
    "# 7. Calculate the z score of the following numbers:\n",
    "  X = [4.5,6.2,7.3,9.1,10.4,71]"
   ]
  },
  {
   "cell_type": "code",
   "execution_count": 1,
   "id": "a0e41ea9-4ac7-4c67-a34b-bea2bee888b8",
   "metadata": {},
   "outputs": [],
   "source": [
    "# Answer 7. --> To Calculate Z-Score \n",
    "import pandas as pd\n",
    "import numpy as np\n",
    "import scipy.stats as stats"
   ]
  },
  {
   "cell_type": "code",
   "execution_count": 2,
   "id": "c78d9ed7-4418-4173-bbf9-59d913ab48f2",
   "metadata": {},
   "outputs": [
    {
     "data": {
      "text/plain": [
       "array([-1.55385602, -0.81667781, -0.33968015,  0.44086148,  1.00458598,\n",
       "        1.26476653])"
      ]
     },
     "execution_count": 2,
     "metadata": {},
     "output_type": "execute_result"
    }
   ],
   "source": [
    "z = np.array([4.5,6.2,7.3,9.1,10.4,11])\n",
    "stats.zscore(z)"
   ]
  },
  {
   "cell_type": "markdown",
   "id": "7ecfd15e-eda2-4e42-b9a5-862dd5c4d547",
   "metadata": {},
   "source": [
    "#SECTION - 2"
   ]
  },
  {
   "cell_type": "code",
   "execution_count": 3,
   "id": "ee940a98-9d20-4364-bc72-a06e4c73a542",
   "metadata": {},
   "outputs": [],
   "source": [
    "import pandas as pd"
   ]
  },
  {
   "cell_type": "code",
   "execution_count": 4,
   "id": "8e271477-0b1b-4187-9082-a75996d83c78",
   "metadata": {},
   "outputs": [],
   "source": [
    "bank_data = pd.read_csv(r\"D:\\Vattan\\ABADS\\Python Stats\\Gd Assess on DesSt Py\\Bank_data.csv\")"
   ]
  },
  {
   "cell_type": "code",
   "execution_count": 6,
   "id": "89a10dcc-4a6f-4cdf-b5b7-80e3c85bb60d",
   "metadata": {},
   "outputs": [
    {
     "data": {
      "text/html": [
       "<div>\n",
       "<style scoped>\n",
       "    .dataframe tbody tr th:only-of-type {\n",
       "        vertical-align: middle;\n",
       "    }\n",
       "\n",
       "    .dataframe tbody tr th {\n",
       "        vertical-align: top;\n",
       "    }\n",
       "\n",
       "    .dataframe thead th {\n",
       "        text-align: right;\n",
       "    }\n",
       "</style>\n",
       "<table border=\"1\" class=\"dataframe\">\n",
       "  <thead>\n",
       "    <tr style=\"text-align: right;\">\n",
       "      <th></th>\n",
       "      <th>ID</th>\n",
       "      <th>Age</th>\n",
       "      <th>Experience</th>\n",
       "      <th>Income</th>\n",
       "      <th>ZIP Code</th>\n",
       "      <th>Family</th>\n",
       "      <th>CCAvg</th>\n",
       "      <th>Education</th>\n",
       "      <th>Mortgage</th>\n",
       "      <th>Personal Loan</th>\n",
       "      <th>Securities Account</th>\n",
       "      <th>CD Account</th>\n",
       "      <th>Online</th>\n",
       "      <th>CreditCard</th>\n",
       "    </tr>\n",
       "  </thead>\n",
       "  <tbody>\n",
       "    <tr>\n",
       "      <th>0</th>\n",
       "      <td>1</td>\n",
       "      <td>25</td>\n",
       "      <td>1</td>\n",
       "      <td>49</td>\n",
       "      <td>91107</td>\n",
       "      <td>4</td>\n",
       "      <td>1.6</td>\n",
       "      <td>1</td>\n",
       "      <td>0</td>\n",
       "      <td>0</td>\n",
       "      <td>1</td>\n",
       "      <td>0</td>\n",
       "      <td>0</td>\n",
       "      <td>0</td>\n",
       "    </tr>\n",
       "    <tr>\n",
       "      <th>1</th>\n",
       "      <td>2</td>\n",
       "      <td>45</td>\n",
       "      <td>19</td>\n",
       "      <td>34</td>\n",
       "      <td>90089</td>\n",
       "      <td>3</td>\n",
       "      <td>1.5</td>\n",
       "      <td>1</td>\n",
       "      <td>0</td>\n",
       "      <td>0</td>\n",
       "      <td>1</td>\n",
       "      <td>0</td>\n",
       "      <td>0</td>\n",
       "      <td>0</td>\n",
       "    </tr>\n",
       "    <tr>\n",
       "      <th>2</th>\n",
       "      <td>3</td>\n",
       "      <td>39</td>\n",
       "      <td>15</td>\n",
       "      <td>11</td>\n",
       "      <td>94720</td>\n",
       "      <td>1</td>\n",
       "      <td>1.0</td>\n",
       "      <td>1</td>\n",
       "      <td>0</td>\n",
       "      <td>0</td>\n",
       "      <td>0</td>\n",
       "      <td>0</td>\n",
       "      <td>0</td>\n",
       "      <td>0</td>\n",
       "    </tr>\n",
       "    <tr>\n",
       "      <th>3</th>\n",
       "      <td>4</td>\n",
       "      <td>35</td>\n",
       "      <td>9</td>\n",
       "      <td>100</td>\n",
       "      <td>94112</td>\n",
       "      <td>1</td>\n",
       "      <td>2.7</td>\n",
       "      <td>2</td>\n",
       "      <td>0</td>\n",
       "      <td>0</td>\n",
       "      <td>0</td>\n",
       "      <td>0</td>\n",
       "      <td>0</td>\n",
       "      <td>0</td>\n",
       "    </tr>\n",
       "    <tr>\n",
       "      <th>4</th>\n",
       "      <td>5</td>\n",
       "      <td>35</td>\n",
       "      <td>8</td>\n",
       "      <td>45</td>\n",
       "      <td>91330</td>\n",
       "      <td>4</td>\n",
       "      <td>1.0</td>\n",
       "      <td>2</td>\n",
       "      <td>0</td>\n",
       "      <td>0</td>\n",
       "      <td>0</td>\n",
       "      <td>0</td>\n",
       "      <td>0</td>\n",
       "      <td>1</td>\n",
       "    </tr>\n",
       "  </tbody>\n",
       "</table>\n",
       "</div>"
      ],
      "text/plain": [
       "   ID  Age  Experience  Income  ZIP Code  Family  CCAvg  Education  Mortgage  \\\n",
       "0   1   25           1      49     91107       4    1.6          1         0   \n",
       "1   2   45          19      34     90089       3    1.5          1         0   \n",
       "2   3   39          15      11     94720       1    1.0          1         0   \n",
       "3   4   35           9     100     94112       1    2.7          2         0   \n",
       "4   5   35           8      45     91330       4    1.0          2         0   \n",
       "\n",
       "   Personal Loan  Securities Account  CD Account  Online  CreditCard  \n",
       "0              0                   1           0       0           0  \n",
       "1              0                   1           0       0           0  \n",
       "2              0                   0           0       0           0  \n",
       "3              0                   0           0       0           0  \n",
       "4              0                   0           0       0           1  "
      ]
     },
     "execution_count": 6,
     "metadata": {},
     "output_type": "execute_result"
    }
   ],
   "source": [
    "bank_data.head()"
   ]
  },
  {
   "cell_type": "markdown",
   "id": "cd7561a9-5fc5-4208-98c3-9c4fca748af2",
   "metadata": {},
   "source": [
    "# SECTION - 2"
   ]
  },
  {
   "cell_type": "code",
   "execution_count": 7,
   "id": "61734d26-36b4-4dc0-9eb0-1506c14aaa27",
   "metadata": {},
   "outputs": [
    {
     "name": "stdout",
     "output_type": "stream",
     "text": [
      "<class 'pandas.core.frame.DataFrame'>\n",
      "RangeIndex: 5000 entries, 0 to 4999\n",
      "Data columns (total 14 columns):\n",
      " #   Column              Non-Null Count  Dtype  \n",
      "---  ------              --------------  -----  \n",
      " 0   ID                  5000 non-null   int64  \n",
      " 1   Age                 5000 non-null   int64  \n",
      " 2   Experience          5000 non-null   int64  \n",
      " 3   Income              5000 non-null   int64  \n",
      " 4   ZIP Code            5000 non-null   int64  \n",
      " 5   Family              5000 non-null   int64  \n",
      " 6   CCAvg               5000 non-null   float64\n",
      " 7   Education           5000 non-null   int64  \n",
      " 8   Mortgage            5000 non-null   int64  \n",
      " 9   Personal Loan       5000 non-null   int64  \n",
      " 10  Securities Account  5000 non-null   int64  \n",
      " 11  CD Account          5000 non-null   int64  \n",
      " 12  Online              5000 non-null   int64  \n",
      " 13  CreditCard          5000 non-null   int64  \n",
      "dtypes: float64(1), int64(13)\n",
      "memory usage: 547.0 KB\n"
     ]
    }
   ],
   "source": [
    "bank_data.info()"
   ]
  },
  {
   "cell_type": "markdown",
   "id": "fac72364-256f-4fbb-b4df-992e5c6cd7d9",
   "metadata": {},
   "source": [
    "# 8. Statistical Summary of all the data sets-"
   ]
  },
  {
   "cell_type": "code",
   "execution_count": 8,
   "id": "6dce1bdc-c72c-4347-a1a9-92ce66acc614",
   "metadata": {},
   "outputs": [
    {
     "data": {
      "text/html": [
       "<div>\n",
       "<style scoped>\n",
       "    .dataframe tbody tr th:only-of-type {\n",
       "        vertical-align: middle;\n",
       "    }\n",
       "\n",
       "    .dataframe tbody tr th {\n",
       "        vertical-align: top;\n",
       "    }\n",
       "\n",
       "    .dataframe thead th {\n",
       "        text-align: right;\n",
       "    }\n",
       "</style>\n",
       "<table border=\"1\" class=\"dataframe\">\n",
       "  <thead>\n",
       "    <tr style=\"text-align: right;\">\n",
       "      <th></th>\n",
       "      <th>count</th>\n",
       "      <th>mean</th>\n",
       "      <th>std</th>\n",
       "      <th>min</th>\n",
       "      <th>25%</th>\n",
       "      <th>50%</th>\n",
       "      <th>75%</th>\n",
       "      <th>max</th>\n",
       "    </tr>\n",
       "  </thead>\n",
       "  <tbody>\n",
       "    <tr>\n",
       "      <th>ID</th>\n",
       "      <td>5000.0</td>\n",
       "      <td>2500.500000</td>\n",
       "      <td>1443.520003</td>\n",
       "      <td>1.0</td>\n",
       "      <td>1250.75</td>\n",
       "      <td>2500.5</td>\n",
       "      <td>3750.25</td>\n",
       "      <td>5000.0</td>\n",
       "    </tr>\n",
       "    <tr>\n",
       "      <th>Age</th>\n",
       "      <td>5000.0</td>\n",
       "      <td>45.338400</td>\n",
       "      <td>11.463166</td>\n",
       "      <td>23.0</td>\n",
       "      <td>35.00</td>\n",
       "      <td>45.0</td>\n",
       "      <td>55.00</td>\n",
       "      <td>67.0</td>\n",
       "    </tr>\n",
       "    <tr>\n",
       "      <th>Experience</th>\n",
       "      <td>5000.0</td>\n",
       "      <td>20.104600</td>\n",
       "      <td>11.467954</td>\n",
       "      <td>-3.0</td>\n",
       "      <td>10.00</td>\n",
       "      <td>20.0</td>\n",
       "      <td>30.00</td>\n",
       "      <td>43.0</td>\n",
       "    </tr>\n",
       "    <tr>\n",
       "      <th>Income</th>\n",
       "      <td>5000.0</td>\n",
       "      <td>73.774200</td>\n",
       "      <td>46.033729</td>\n",
       "      <td>8.0</td>\n",
       "      <td>39.00</td>\n",
       "      <td>64.0</td>\n",
       "      <td>98.00</td>\n",
       "      <td>224.0</td>\n",
       "    </tr>\n",
       "    <tr>\n",
       "      <th>ZIP Code</th>\n",
       "      <td>5000.0</td>\n",
       "      <td>93152.503000</td>\n",
       "      <td>2121.852197</td>\n",
       "      <td>9307.0</td>\n",
       "      <td>91911.00</td>\n",
       "      <td>93437.0</td>\n",
       "      <td>94608.00</td>\n",
       "      <td>96651.0</td>\n",
       "    </tr>\n",
       "    <tr>\n",
       "      <th>Family</th>\n",
       "      <td>5000.0</td>\n",
       "      <td>2.396400</td>\n",
       "      <td>1.147663</td>\n",
       "      <td>1.0</td>\n",
       "      <td>1.00</td>\n",
       "      <td>2.0</td>\n",
       "      <td>3.00</td>\n",
       "      <td>4.0</td>\n",
       "    </tr>\n",
       "    <tr>\n",
       "      <th>CCAvg</th>\n",
       "      <td>5000.0</td>\n",
       "      <td>1.937938</td>\n",
       "      <td>1.747659</td>\n",
       "      <td>0.0</td>\n",
       "      <td>0.70</td>\n",
       "      <td>1.5</td>\n",
       "      <td>2.50</td>\n",
       "      <td>10.0</td>\n",
       "    </tr>\n",
       "    <tr>\n",
       "      <th>Education</th>\n",
       "      <td>5000.0</td>\n",
       "      <td>1.881000</td>\n",
       "      <td>0.839869</td>\n",
       "      <td>1.0</td>\n",
       "      <td>1.00</td>\n",
       "      <td>2.0</td>\n",
       "      <td>3.00</td>\n",
       "      <td>3.0</td>\n",
       "    </tr>\n",
       "    <tr>\n",
       "      <th>Mortgage</th>\n",
       "      <td>5000.0</td>\n",
       "      <td>56.498800</td>\n",
       "      <td>101.713802</td>\n",
       "      <td>0.0</td>\n",
       "      <td>0.00</td>\n",
       "      <td>0.0</td>\n",
       "      <td>101.00</td>\n",
       "      <td>635.0</td>\n",
       "    </tr>\n",
       "    <tr>\n",
       "      <th>Personal Loan</th>\n",
       "      <td>5000.0</td>\n",
       "      <td>0.096000</td>\n",
       "      <td>0.294621</td>\n",
       "      <td>0.0</td>\n",
       "      <td>0.00</td>\n",
       "      <td>0.0</td>\n",
       "      <td>0.00</td>\n",
       "      <td>1.0</td>\n",
       "    </tr>\n",
       "    <tr>\n",
       "      <th>Securities Account</th>\n",
       "      <td>5000.0</td>\n",
       "      <td>0.104400</td>\n",
       "      <td>0.305809</td>\n",
       "      <td>0.0</td>\n",
       "      <td>0.00</td>\n",
       "      <td>0.0</td>\n",
       "      <td>0.00</td>\n",
       "      <td>1.0</td>\n",
       "    </tr>\n",
       "    <tr>\n",
       "      <th>CD Account</th>\n",
       "      <td>5000.0</td>\n",
       "      <td>0.060400</td>\n",
       "      <td>0.238250</td>\n",
       "      <td>0.0</td>\n",
       "      <td>0.00</td>\n",
       "      <td>0.0</td>\n",
       "      <td>0.00</td>\n",
       "      <td>1.0</td>\n",
       "    </tr>\n",
       "    <tr>\n",
       "      <th>Online</th>\n",
       "      <td>5000.0</td>\n",
       "      <td>0.596800</td>\n",
       "      <td>0.490589</td>\n",
       "      <td>0.0</td>\n",
       "      <td>0.00</td>\n",
       "      <td>1.0</td>\n",
       "      <td>1.00</td>\n",
       "      <td>1.0</td>\n",
       "    </tr>\n",
       "    <tr>\n",
       "      <th>CreditCard</th>\n",
       "      <td>5000.0</td>\n",
       "      <td>0.294000</td>\n",
       "      <td>0.455637</td>\n",
       "      <td>0.0</td>\n",
       "      <td>0.00</td>\n",
       "      <td>0.0</td>\n",
       "      <td>1.00</td>\n",
       "      <td>1.0</td>\n",
       "    </tr>\n",
       "  </tbody>\n",
       "</table>\n",
       "</div>"
      ],
      "text/plain": [
       "                     count          mean          std     min       25%  \\\n",
       "ID                  5000.0   2500.500000  1443.520003     1.0   1250.75   \n",
       "Age                 5000.0     45.338400    11.463166    23.0     35.00   \n",
       "Experience          5000.0     20.104600    11.467954    -3.0     10.00   \n",
       "Income              5000.0     73.774200    46.033729     8.0     39.00   \n",
       "ZIP Code            5000.0  93152.503000  2121.852197  9307.0  91911.00   \n",
       "Family              5000.0      2.396400     1.147663     1.0      1.00   \n",
       "CCAvg               5000.0      1.937938     1.747659     0.0      0.70   \n",
       "Education           5000.0      1.881000     0.839869     1.0      1.00   \n",
       "Mortgage            5000.0     56.498800   101.713802     0.0      0.00   \n",
       "Personal Loan       5000.0      0.096000     0.294621     0.0      0.00   \n",
       "Securities Account  5000.0      0.104400     0.305809     0.0      0.00   \n",
       "CD Account          5000.0      0.060400     0.238250     0.0      0.00   \n",
       "Online              5000.0      0.596800     0.490589     0.0      0.00   \n",
       "CreditCard          5000.0      0.294000     0.455637     0.0      0.00   \n",
       "\n",
       "                        50%       75%      max  \n",
       "ID                   2500.5   3750.25   5000.0  \n",
       "Age                    45.0     55.00     67.0  \n",
       "Experience             20.0     30.00     43.0  \n",
       "Income                 64.0     98.00    224.0  \n",
       "ZIP Code            93437.0  94608.00  96651.0  \n",
       "Family                  2.0      3.00      4.0  \n",
       "CCAvg                   1.5      2.50     10.0  \n",
       "Education               2.0      3.00      3.0  \n",
       "Mortgage                0.0    101.00    635.0  \n",
       "Personal Loan           0.0      0.00      1.0  \n",
       "Securities Account      0.0      0.00      1.0  \n",
       "CD Account              0.0      0.00      1.0  \n",
       "Online                  1.0      1.00      1.0  \n",
       "CreditCard              0.0      1.00      1.0  "
      ]
     },
     "execution_count": 8,
     "metadata": {},
     "output_type": "execute_result"
    }
   ],
   "source": [
    "bank_data.describe().T"
   ]
  },
  {
   "cell_type": "markdown",
   "id": "066e95eb-2ce6-47db-98ed-f9e7ee753aae",
   "metadata": {},
   "source": [
    "# 9. Measures of Central Tendency and Measures of Dispersion of quantitative variables"
   ]
  },
  {
   "cell_type": "code",
   "execution_count": 14,
   "id": "a64daf8d-a85e-4064-8413-448850cd29bb",
   "metadata": {},
   "outputs": [],
   "source": [
    "# Measure of Central Tendency --> Mean, Median, Mode\n",
    "# Measure of Dispersion --> Vairance, Standard Deviation, Range, IQR"
   ]
  },
  {
   "cell_type": "code",
   "execution_count": 9,
   "id": "4206c13d-59bc-47a5-b023-d2eecaa5dea0",
   "metadata": {},
   "outputs": [
    {
     "data": {
      "text/plain": [
       "Age           45.338400\n",
       "Experience    20.104600\n",
       "Income        73.774200\n",
       "CCAvg          1.937938\n",
       "Mortgage      56.498800\n",
       "dtype: float64"
      ]
     },
     "execution_count": 9,
     "metadata": {},
     "output_type": "execute_result"
    }
   ],
   "source": [
    "# Measure of Central Tendency\n",
    "# Mean\n",
    "bank_data[['Age', 'Experience', 'Income', 'CCAvg', 'Mortgage']].mean()"
   ]
  },
  {
   "cell_type": "code",
   "execution_count": 10,
   "id": "d2d4cb34-c9d0-4d75-83f5-ab1a8e10fd69",
   "metadata": {},
   "outputs": [
    {
     "data": {
      "text/plain": [
       "Age           45.0\n",
       "Experience    20.0\n",
       "Income        64.0\n",
       "CCAvg          1.5\n",
       "Mortgage       0.0\n",
       "dtype: float64"
      ]
     },
     "execution_count": 10,
     "metadata": {},
     "output_type": "execute_result"
    }
   ],
   "source": [
    "# Median \n",
    "bank_data[['Age', 'Experience', 'Income', 'CCAvg', 'Mortgage']].median()"
   ]
  },
  {
   "cell_type": "code",
   "execution_count": 11,
   "id": "9665da5c-ef61-4d6f-ac45-3269de76439b",
   "metadata": {},
   "outputs": [
    {
     "data": {
      "text/html": [
       "<div>\n",
       "<style scoped>\n",
       "    .dataframe tbody tr th:only-of-type {\n",
       "        vertical-align: middle;\n",
       "    }\n",
       "\n",
       "    .dataframe tbody tr th {\n",
       "        vertical-align: top;\n",
       "    }\n",
       "\n",
       "    .dataframe thead th {\n",
       "        text-align: right;\n",
       "    }\n",
       "</style>\n",
       "<table border=\"1\" class=\"dataframe\">\n",
       "  <thead>\n",
       "    <tr style=\"text-align: right;\">\n",
       "      <th></th>\n",
       "      <th>Age</th>\n",
       "      <th>Experience</th>\n",
       "      <th>Income</th>\n",
       "      <th>CCAvg</th>\n",
       "      <th>Mortgage</th>\n",
       "    </tr>\n",
       "  </thead>\n",
       "  <tbody>\n",
       "    <tr>\n",
       "      <th>0</th>\n",
       "      <td>35</td>\n",
       "      <td>32</td>\n",
       "      <td>44</td>\n",
       "      <td>0.3</td>\n",
       "      <td>0</td>\n",
       "    </tr>\n",
       "  </tbody>\n",
       "</table>\n",
       "</div>"
      ],
      "text/plain": [
       "   Age  Experience  Income  CCAvg  Mortgage\n",
       "0   35          32      44    0.3         0"
      ]
     },
     "execution_count": 11,
     "metadata": {},
     "output_type": "execute_result"
    }
   ],
   "source": [
    "# Mode\n",
    "bank_data[['Age', 'Experience', 'Income', 'CCAvg', 'Mortgage']].mode()"
   ]
  },
  {
   "cell_type": "code",
   "execution_count": 12,
   "id": "d9b4299b-4ab7-431e-9c2c-77e141761cec",
   "metadata": {},
   "outputs": [
    {
     "data": {
      "text/plain": [
       "Age             131.404166\n",
       "Experience      131.513962\n",
       "Income         2119.104235\n",
       "CCAvg             3.054312\n",
       "Mortgage      10345.697538\n",
       "dtype: float64"
      ]
     },
     "execution_count": 12,
     "metadata": {},
     "output_type": "execute_result"
    }
   ],
   "source": [
    "# Measure of Dispersion\n",
    "# Variance\n",
    "bank_data[['Age', 'Experience', 'Income', 'CCAvg', 'Mortgage']].var()"
   ]
  },
  {
   "cell_type": "code",
   "execution_count": 13,
   "id": "7676f321-1492-4e20-ae68-0ba3cf7efb6a",
   "metadata": {},
   "outputs": [
    {
     "data": {
      "text/plain": [
       "Age            11.463166\n",
       "Experience     11.467954\n",
       "Income         46.033729\n",
       "CCAvg           1.747659\n",
       "Mortgage      101.713802\n",
       "dtype: float64"
      ]
     },
     "execution_count": 13,
     "metadata": {},
     "output_type": "execute_result"
    }
   ],
   "source": [
    "# Standard Deviaton\n",
    "bank_data[['Age', 'Experience', 'Income', 'CCAvg', 'Mortgage']].std()"
   ]
  },
  {
   "cell_type": "code",
   "execution_count": 14,
   "id": "2c0c0df5-2bf0-4487-a63f-555b671c3ca2",
   "metadata": {},
   "outputs": [
    {
     "data": {
      "text/plain": [
       "44"
      ]
     },
     "execution_count": 14,
     "metadata": {},
     "output_type": "execute_result"
    }
   ],
   "source": [
    "# Range\n",
    "bank_data['Age'].max()-bank_data['Age'].min()"
   ]
  },
  {
   "cell_type": "code",
   "execution_count": 15,
   "id": "fe6a817f-e8f5-46bd-9e44-ae2ce348e89b",
   "metadata": {},
   "outputs": [
    {
     "data": {
      "text/plain": [
       "Age            44.0\n",
       "Experience     46.0\n",
       "Income        216.0\n",
       "CCAvg          10.0\n",
       "Mortgage      635.0\n",
       "dtype: float64"
      ]
     },
     "execution_count": 15,
     "metadata": {},
     "output_type": "execute_result"
    }
   ],
   "source": [
    "# Range\n",
    "# bank_data['Age'].max()-bank_data['Age'].min()\n",
    "# bank_data['Experience'].max()-bank_data['Experience'].min()\n",
    "# bank_data['Income'].max()-bank_data['Income'].min()\n",
    "# bank_data['CCAvg'].max()-bank_data['CCAvg'].min()\n",
    "# bank_data['Mortgage'].max()-bank_data['Mortgage'].min()\n",
    "\n",
    "bank_data[['Age', 'Experience', 'Income', 'CCAvg', 'Mortgage']].max() - bank_data[['Age', 'Experience', 'Income', 'CCAvg', 'Mortgage']].min()"
   ]
  },
  {
   "cell_type": "code",
   "execution_count": 16,
   "id": "de991389-c3dd-4a53-aa67-a466c3fde168",
   "metadata": {},
   "outputs": [
    {
     "data": {
      "text/plain": [
       "Age            20.0\n",
       "Experience     20.0\n",
       "Income         59.0\n",
       "CCAvg           1.8\n",
       "Mortgage      101.0\n",
       "dtype: float64"
      ]
     },
     "execution_count": 16,
     "metadata": {},
     "output_type": "execute_result"
    }
   ],
   "source": [
    "# IQR\n",
    "bank_data[['Age', 'Experience', 'Income', 'CCAvg', 'Mortgage']].quantile(.75) - bank_data[['Age', 'Experience', 'Income', 'CCAvg', 'Mortgage']].quantile(.25)"
   ]
  },
  {
   "cell_type": "markdown",
   "id": "a89a35c7-25a9-4f02-9301-879aea39bf94",
   "metadata": {},
   "source": [
    "# 10. Linear Relationship between age and experience"
   ]
  },
  {
   "cell_type": "code",
   "execution_count": 17,
   "id": "dbab7949-43d1-4a53-9a04-a85755621050",
   "metadata": {},
   "outputs": [
    {
     "data": {
      "text/html": [
       "<div>\n",
       "<style scoped>\n",
       "    .dataframe tbody tr th:only-of-type {\n",
       "        vertical-align: middle;\n",
       "    }\n",
       "\n",
       "    .dataframe tbody tr th {\n",
       "        vertical-align: top;\n",
       "    }\n",
       "\n",
       "    .dataframe thead th {\n",
       "        text-align: right;\n",
       "    }\n",
       "</style>\n",
       "<table border=\"1\" class=\"dataframe\">\n",
       "  <thead>\n",
       "    <tr style=\"text-align: right;\">\n",
       "      <th></th>\n",
       "      <th>Age</th>\n",
       "      <th>Experience</th>\n",
       "    </tr>\n",
       "  </thead>\n",
       "  <tbody>\n",
       "    <tr>\n",
       "      <th>0</th>\n",
       "      <td>25</td>\n",
       "      <td>1</td>\n",
       "    </tr>\n",
       "    <tr>\n",
       "      <th>1</th>\n",
       "      <td>45</td>\n",
       "      <td>19</td>\n",
       "    </tr>\n",
       "    <tr>\n",
       "      <th>2</th>\n",
       "      <td>39</td>\n",
       "      <td>15</td>\n",
       "    </tr>\n",
       "    <tr>\n",
       "      <th>3</th>\n",
       "      <td>35</td>\n",
       "      <td>9</td>\n",
       "    </tr>\n",
       "    <tr>\n",
       "      <th>4</th>\n",
       "      <td>35</td>\n",
       "      <td>8</td>\n",
       "    </tr>\n",
       "    <tr>\n",
       "      <th>...</th>\n",
       "      <td>...</td>\n",
       "      <td>...</td>\n",
       "    </tr>\n",
       "    <tr>\n",
       "      <th>4995</th>\n",
       "      <td>29</td>\n",
       "      <td>3</td>\n",
       "    </tr>\n",
       "    <tr>\n",
       "      <th>4996</th>\n",
       "      <td>30</td>\n",
       "      <td>4</td>\n",
       "    </tr>\n",
       "    <tr>\n",
       "      <th>4997</th>\n",
       "      <td>63</td>\n",
       "      <td>39</td>\n",
       "    </tr>\n",
       "    <tr>\n",
       "      <th>4998</th>\n",
       "      <td>65</td>\n",
       "      <td>40</td>\n",
       "    </tr>\n",
       "    <tr>\n",
       "      <th>4999</th>\n",
       "      <td>28</td>\n",
       "      <td>4</td>\n",
       "    </tr>\n",
       "  </tbody>\n",
       "</table>\n",
       "<p>5000 rows × 2 columns</p>\n",
       "</div>"
      ],
      "text/plain": [
       "      Age  Experience\n",
       "0      25           1\n",
       "1      45          19\n",
       "2      39          15\n",
       "3      35           9\n",
       "4      35           8\n",
       "...   ...         ...\n",
       "4995   29           3\n",
       "4996   30           4\n",
       "4997   63          39\n",
       "4998   65          40\n",
       "4999   28           4\n",
       "\n",
       "[5000 rows x 2 columns]"
      ]
     },
     "execution_count": 17,
     "metadata": {},
     "output_type": "execute_result"
    }
   ],
   "source": [
    "# Answer 10. --> Linear Relationship between age and experience\n",
    "\n",
    "bank_data.iloc[:,[1,2]]"
   ]
  },
  {
   "cell_type": "code",
   "execution_count": 18,
   "id": "79132302-3eae-47c5-993a-102b4488add0",
   "metadata": {},
   "outputs": [
    {
     "data": {
      "text/html": [
       "<div>\n",
       "<style scoped>\n",
       "    .dataframe tbody tr th:only-of-type {\n",
       "        vertical-align: middle;\n",
       "    }\n",
       "\n",
       "    .dataframe tbody tr th {\n",
       "        vertical-align: top;\n",
       "    }\n",
       "\n",
       "    .dataframe thead th {\n",
       "        text-align: right;\n",
       "    }\n",
       "</style>\n",
       "<table border=\"1\" class=\"dataframe\">\n",
       "  <thead>\n",
       "    <tr style=\"text-align: right;\">\n",
       "      <th></th>\n",
       "      <th>Age</th>\n",
       "      <th>Experience</th>\n",
       "    </tr>\n",
       "  </thead>\n",
       "  <tbody>\n",
       "    <tr>\n",
       "      <th>Age</th>\n",
       "      <td>1.000000</td>\n",
       "      <td>0.994215</td>\n",
       "    </tr>\n",
       "    <tr>\n",
       "      <th>Experience</th>\n",
       "      <td>0.994215</td>\n",
       "      <td>1.000000</td>\n",
       "    </tr>\n",
       "  </tbody>\n",
       "</table>\n",
       "</div>"
      ],
      "text/plain": [
       "                 Age  Experience\n",
       "Age         1.000000    0.994215\n",
       "Experience  0.994215    1.000000"
      ]
     },
     "execution_count": 18,
     "metadata": {},
     "output_type": "execute_result"
    }
   ],
   "source": [
    "bank_data.iloc[:,[1,2]].corr()"
   ]
  },
  {
   "cell_type": "code",
   "execution_count": 25,
   "id": "3d7f8107-e3af-4c07-bb3b-e1deb2b50b84",
   "metadata": {},
   "outputs": [],
   "source": [
    "# The above mentioned result shows that Age and Experience has a correlation which is positive as it is greater than 0.7."
   ]
  },
  {
   "cell_type": "code",
   "execution_count": 19,
   "id": "f44b82c0-6e2a-436b-8ad3-a8f0d19ebe12",
   "metadata": {},
   "outputs": [],
   "source": [
    "import matplotlib.pyplot as plt"
   ]
  },
  {
   "cell_type": "code",
   "execution_count": 20,
   "id": "35533280-241c-4ca6-a3e1-68bdf52b8580",
   "metadata": {},
   "outputs": [
    {
     "data": {
      "text/plain": [
       "<matplotlib.collections.PathCollection at 0x2325d6f7550>"
      ]
     },
     "execution_count": 20,
     "metadata": {},
     "output_type": "execute_result"
    },
    {
     "data": {
      "image/png": "[encoded data removed]",
      "text/plain": [
       "<Figure size 640x480 with 1 Axes>"
      ]
     },
     "metadata": {},
     "output_type": "display_data"
    }
   ],
   "source": [
    "plt.scatter(bank_data[\"Age\"],bank_data[\"Experience\"])"
   ]
  },
  {
   "cell_type": "code",
   "execution_count": 28,
   "id": "8fc1bdd6-87b7-4696-ae7e-837fcfa5af1b",
   "metadata": {},
   "outputs": [
    {
     "data": {
      "text/plain": [
       "<Axes: title={'center': 'Age Vs Experience'}, xlabel='Age', ylabel='Experience'>"
      ]
     },
     "execution_count": 28,
     "metadata": {},
     "output_type": "execute_result"
    },
    {
     "data": {
      "image/png": "[encoded data removed]",
      "text/plain": [
       "<Figure size 640x480 with 1 Axes>"
      ]
     },
     "metadata": {},
     "output_type": "display_data"
    }
   ],
   "source": [
    "bank_data.plot(x = \"Age\", y = \"Experience\",\n",
    "                kind = \"scatter\", xlabel = \"Age\", ylabel = \"Experience\", title = \"Age Vs Experience\")"
   ]
  },
  {
   "cell_type": "markdown",
   "id": "88ad0f4d-c4f9-4800-b385-884f4c40fc1d",
   "metadata": {},
   "source": [
    "# 11. Most frequent family size"
   ]
  },
  {
   "cell_type": "code",
   "execution_count": 21,
   "id": "511b7eac-df2e-4afe-9f81-54b7cfa03188",
   "metadata": {},
   "outputs": [
    {
     "data": {
      "text/plain": [
       "0    1\n",
       "Name: Family, dtype: int64"
      ]
     },
     "execution_count": 21,
     "metadata": {},
     "output_type": "execute_result"
    }
   ],
   "source": [
    "# Answer 11. --> Most frequent family size\n",
    "\n",
    "bank_data[\"Family\"].mode()"
   ]
  },
  {
   "cell_type": "code",
   "execution_count": 30,
   "id": "853f1c09-bf7d-4997-9584-af67a9116e5d",
   "metadata": {},
   "outputs": [],
   "source": [
    "# Here the value for Family Size 1 = 1472, which is highest among all. So this is the most frequent famliy size. "
   ]
  },
  {
   "cell_type": "markdown",
   "id": "fa73746a-2366-4046-aeba-c1c960746c05",
   "metadata": {},
   "source": [
    "# 12. Percentage of variation observed in the 'Income' variable"
   ]
  },
  {
   "cell_type": "code",
   "execution_count": 22,
   "id": "961f753e-4fd7-472a-b614-43753fde1fa4",
   "metadata": {},
   "outputs": [
    {
     "name": "stdout",
     "output_type": "stream",
     "text": [
      "62.39814097758612\n"
     ]
    }
   ],
   "source": [
    "# Answer 12. --> Percentage of variation = (Stdev/Mean) * 100\n",
    "var1 = bank_data['Income'].mean()\n",
    "var2 = bank_data['Income'].std()\n",
    "per_of_var = (var2 / var1) * 100\n",
    "print(per_of_var)"
   ]
  },
  {
   "cell_type": "markdown",
   "id": "9992b7cc-b7ba-40f6-9a99-01be11188a39",
   "metadata": {},
   "source": [
    "# 13. Imputing the Mortgage value"
   ]
  },
  {
   "cell_type": "code",
   "execution_count": 23,
   "id": "a2c47040-b4c2-4b52-90c6-f1a0abd72d9f",
   "metadata": {},
   "outputs": [
    {
     "data": {
      "text/html": [
       "<div>\n",
       "<style scoped>\n",
       "    .dataframe tbody tr th:only-of-type {\n",
       "        vertical-align: middle;\n",
       "    }\n",
       "\n",
       "    .dataframe tbody tr th {\n",
       "        vertical-align: top;\n",
       "    }\n",
       "\n",
       "    .dataframe thead th {\n",
       "        text-align: right;\n",
       "    }\n",
       "</style>\n",
       "<table border=\"1\" class=\"dataframe\">\n",
       "  <thead>\n",
       "    <tr style=\"text-align: right;\">\n",
       "      <th></th>\n",
       "      <th>Mortgage</th>\n",
       "    </tr>\n",
       "  </thead>\n",
       "  <tbody>\n",
       "    <tr>\n",
       "      <th>0</th>\n",
       "      <td>0</td>\n",
       "    </tr>\n",
       "    <tr>\n",
       "      <th>1</th>\n",
       "      <td>0</td>\n",
       "    </tr>\n",
       "    <tr>\n",
       "      <th>2</th>\n",
       "      <td>0</td>\n",
       "    </tr>\n",
       "    <tr>\n",
       "      <th>3</th>\n",
       "      <td>0</td>\n",
       "    </tr>\n",
       "    <tr>\n",
       "      <th>4</th>\n",
       "      <td>0</td>\n",
       "    </tr>\n",
       "    <tr>\n",
       "      <th>...</th>\n",
       "      <td>...</td>\n",
       "    </tr>\n",
       "    <tr>\n",
       "      <th>4995</th>\n",
       "      <td>0</td>\n",
       "    </tr>\n",
       "    <tr>\n",
       "      <th>4996</th>\n",
       "      <td>85</td>\n",
       "    </tr>\n",
       "    <tr>\n",
       "      <th>4997</th>\n",
       "      <td>0</td>\n",
       "    </tr>\n",
       "    <tr>\n",
       "      <th>4998</th>\n",
       "      <td>0</td>\n",
       "    </tr>\n",
       "    <tr>\n",
       "      <th>4999</th>\n",
       "      <td>0</td>\n",
       "    </tr>\n",
       "  </tbody>\n",
       "</table>\n",
       "<p>5000 rows × 1 columns</p>\n",
       "</div>"
      ],
      "text/plain": [
       "      Mortgage\n",
       "0            0\n",
       "1            0\n",
       "2            0\n",
       "3            0\n",
       "4            0\n",
       "...        ...\n",
       "4995         0\n",
       "4996        85\n",
       "4997         0\n",
       "4998         0\n",
       "4999         0\n",
       "\n",
       "[5000 rows x 1 columns]"
      ]
     },
     "execution_count": 23,
     "metadata": {},
     "output_type": "execute_result"
    }
   ],
   "source": [
    "# Answer 13. --> Imputing the Mortgage value\n",
    "\n",
    "bank_data.iloc[:,[8]]"
   ]
  },
  {
   "cell_type": "code",
   "execution_count": 24,
   "id": "5d1878df-44a8-4853-9a58-0274ed63fdb0",
   "metadata": {},
   "outputs": [
    {
     "data": {
      "text/plain": [
       "Mortgage\n",
       "0      3462\n",
       "98       17\n",
       "119      16\n",
       "89       16\n",
       "91       16\n",
       "       ... \n",
       "547       1\n",
       "458       1\n",
       "505       1\n",
       "361       1\n",
       "541       1\n",
       "Name: count, Length: 347, dtype: int64"
      ]
     },
     "execution_count": 24,
     "metadata": {},
     "output_type": "execute_result"
    }
   ],
   "source": [
    "bank_data['Mortgage'].value_counts(0)"
   ]
  },
  {
   "cell_type": "code",
   "execution_count": 25,
   "id": "bc09bf70-3bf4-46fd-b07d-4165a5c54dae",
   "metadata": {},
   "outputs": [
    {
     "data": {
      "text/plain": [
       "0.0"
      ]
     },
     "execution_count": 25,
     "metadata": {},
     "output_type": "execute_result"
    }
   ],
   "source": [
    "bank_data['Mortgage'].median()"
   ]
  },
  {
   "cell_type": "code",
   "execution_count": 26,
   "id": "3631de4b-58f2-49c2-b846-a6d3aff75552",
   "metadata": {},
   "outputs": [
    {
     "data": {
      "text/plain": [
       "56.4988"
      ]
     },
     "execution_count": 26,
     "metadata": {},
     "output_type": "execute_result"
    }
   ],
   "source": [
    "bank_data['Mortgage'].mean()"
   ]
  },
  {
   "cell_type": "code",
   "execution_count": 27,
   "id": "1f61cbeb-2915-475c-8e74-65eda415f25f",
   "metadata": {},
   "outputs": [
    {
     "data": {
      "text/plain": [
       "101.713802102109"
      ]
     },
     "execution_count": 27,
     "metadata": {},
     "output_type": "execute_result"
    }
   ],
   "source": [
    "bank_data['Mortgage'].std()"
   ]
  },
  {
   "cell_type": "code",
   "execution_count": null,
   "id": "530ede72-56f0-4813-b4da-4b05911bf555",
   "metadata": {},
   "outputs": [],
   "source": []
  },
  {
   "cell_type": "markdown",
   "id": "2210b654-fd0f-461c-ad3d-0da4ee669731",
   "metadata": {},
   "source": [
    "# 14. For density curve"
   ]
  },
  {
   "cell_type": "code",
   "execution_count": 28,
   "id": "8afb6a1a-4d80-45fd-a321-e299b7c89252",
   "metadata": {},
   "outputs": [],
   "source": [
    "# Answer 14. --> For density curve\n",
    "\n",
    "bank_data_ccavg = bank_data[bank_data[\"CreditCard\"] == 1]"
   ]
  },
  {
   "cell_type": "code",
   "execution_count": 29,
   "id": "6d062f3e-dceb-423f-8ee0-16a7b93af745",
   "metadata": {},
   "outputs": [
    {
     "data": {
      "text/html": [
       "<div>\n",
       "<style scoped>\n",
       "    .dataframe tbody tr th:only-of-type {\n",
       "        vertical-align: middle;\n",
       "    }\n",
       "\n",
       "    .dataframe tbody tr th {\n",
       "        vertical-align: top;\n",
       "    }\n",
       "\n",
       "    .dataframe thead th {\n",
       "        text-align: right;\n",
       "    }\n",
       "</style>\n",
       "<table border=\"1\" class=\"dataframe\">\n",
       "  <thead>\n",
       "    <tr style=\"text-align: right;\">\n",
       "      <th></th>\n",
       "      <th>CreditCard</th>\n",
       "      <th>CCAvg</th>\n",
       "    </tr>\n",
       "  </thead>\n",
       "  <tbody>\n",
       "    <tr>\n",
       "      <th>4</th>\n",
       "      <td>1</td>\n",
       "      <td>1.0</td>\n",
       "    </tr>\n",
       "    <tr>\n",
       "      <th>7</th>\n",
       "      <td>1</td>\n",
       "      <td>0.3</td>\n",
       "    </tr>\n",
       "    <tr>\n",
       "      <th>15</th>\n",
       "      <td>1</td>\n",
       "      <td>1.5</td>\n",
       "    </tr>\n",
       "    <tr>\n",
       "      <th>19</th>\n",
       "      <td>1</td>\n",
       "      <td>0.5</td>\n",
       "    </tr>\n",
       "    <tr>\n",
       "      <th>24</th>\n",
       "      <td>1</td>\n",
       "      <td>3.9</td>\n",
       "    </tr>\n",
       "    <tr>\n",
       "      <th>...</th>\n",
       "      <td>...</td>\n",
       "      <td>...</td>\n",
       "    </tr>\n",
       "    <tr>\n",
       "      <th>4984</th>\n",
       "      <td>1</td>\n",
       "      <td>2.3</td>\n",
       "    </tr>\n",
       "    <tr>\n",
       "      <th>4988</th>\n",
       "      <td>1</td>\n",
       "      <td>2.5</td>\n",
       "    </tr>\n",
       "    <tr>\n",
       "      <th>4990</th>\n",
       "      <td>1</td>\n",
       "      <td>2.0</td>\n",
       "    </tr>\n",
       "    <tr>\n",
       "      <th>4991</th>\n",
       "      <td>1</td>\n",
       "      <td>1.9</td>\n",
       "    </tr>\n",
       "    <tr>\n",
       "      <th>4999</th>\n",
       "      <td>1</td>\n",
       "      <td>0.8</td>\n",
       "    </tr>\n",
       "  </tbody>\n",
       "</table>\n",
       "<p>1470 rows × 2 columns</p>\n",
       "</div>"
      ],
      "text/plain": [
       "      CreditCard  CCAvg\n",
       "4              1    1.0\n",
       "7              1    0.3\n",
       "15             1    1.5\n",
       "19             1    0.5\n",
       "24             1    3.9\n",
       "...          ...    ...\n",
       "4984           1    2.3\n",
       "4988           1    2.5\n",
       "4990           1    2.0\n",
       "4991           1    1.9\n",
       "4999           1    0.8\n",
       "\n",
       "[1470 rows x 2 columns]"
      ]
     },
     "execution_count": 29,
     "metadata": {},
     "output_type": "execute_result"
    }
   ],
   "source": [
    "bank_data_ccavg[[\"CreditCard\", \"CCAvg\"]]"
   ]
  },
  {
   "cell_type": "code",
   "execution_count": 30,
   "id": "5cb73712-f9cd-4ac4-934d-425be869d839",
   "metadata": {},
   "outputs": [],
   "source": [
    "import seaborn as sns"
   ]
  },
  {
   "cell_type": "code",
   "execution_count": 31,
   "id": "853fd31c-a8c5-4c1d-988d-c857e2a43084",
   "metadata": {},
   "outputs": [
    {
     "name": "stderr",
     "output_type": "stream",
     "text": [
      "D:\\Vattan\\ABADS\\Anaconda\\Lib\\site-packages\\seaborn\\_oldcore.py:1119: FutureWarning: use_inf_as_na option is deprecated and will be removed in a future version. Convert inf values to NaN before operating instead.\n",
      "  with pd.option_context('mode.use_inf_as_na', True):\n"
     ]
    },
    {
     "data": {
      "text/plain": [
       "<seaborn.axisgrid.FacetGrid at 0x2325e305250>"
      ]
     },
     "execution_count": 31,
     "metadata": {},
     "output_type": "execute_result"
    },
    {
     "data": {
      "image/png": "[encoded data removed]",
      "text/plain": [
       "<Figure size 500x500 with 1 Axes>"
      ]
     },
     "metadata": {},
     "output_type": "display_data"
    }
   ],
   "source": [
    "sns.displot(data = bank_data_ccavg, x = \"CCAvg\", kind = \"kde\")"
   ]
  },
  {
   "cell_type": "markdown",
   "id": "2c782910-bd03-489e-a065-98e01f1cfc47",
   "metadata": {},
   "source": [
    "# 15. TO check outliers"
   ]
  },
  {
   "cell_type": "code",
   "execution_count": 32,
   "id": "d2d4c589-3e9f-4594-a83b-710c2e455717",
   "metadata": {},
   "outputs": [
    {
     "data": {
      "text/plain": [
       "<Axes: xlabel='Mortgage'>"
      ]
     },
     "execution_count": 32,
     "metadata": {},
     "output_type": "execute_result"
    },
    {
     "data": {
      "image/png": "[encoded data removed]",
      "text/plain": [
       "<Figure size 640x480 with 1 Axes>"
      ]
     },
     "metadata": {},
     "output_type": "display_data"
    }
   ],
   "source": [
    "# Answer 15. --> TO check outliers\n",
    "\n",
    "sns.boxplot(data = bank_data, x = \"Mortgage\")"
   ]
  },
  {
   "cell_type": "code",
   "execution_count": 33,
   "id": "695340d4-48b2-4127-8c77-aa2a24395b9e",
   "metadata": {},
   "outputs": [
    {
     "data": {
      "text/plain": [
       "<Axes: >"
      ]
     },
     "execution_count": 33,
     "metadata": {},
     "output_type": "execute_result"
    },
    {
     "data": {
      "image/png": "[encoded data removed]",
      "text/plain": [
       "<Figure size 640x480 with 1 Axes>"
      ]
     },
     "metadata": {},
     "output_type": "display_data"
    }
   ],
   "source": [
    "bank_data.boxplot(column = \"Mortgage\")"
   ]
  },
  {
   "cell_type": "markdown",
   "id": "1825d1f0-34fd-433d-b39a-262f07719a00",
   "metadata": {},
   "source": [
    "# 16.  Decile value of the variable \"Income\""
   ]
  },
  {
   "cell_type": "code",
   "execution_count": 34,
   "id": "beca77b7-6ee6-44c5-a2a6-6c0f02b4cf86",
   "metadata": {},
   "outputs": [
    {
     "data": {
      "text/html": [
       "<div>\n",
       "<style scoped>\n",
       "    .dataframe tbody tr th:only-of-type {\n",
       "        vertical-align: middle;\n",
       "    }\n",
       "\n",
       "    .dataframe tbody tr th {\n",
       "        vertical-align: top;\n",
       "    }\n",
       "\n",
       "    .dataframe thead th {\n",
       "        text-align: right;\n",
       "    }\n",
       "</style>\n",
       "<table border=\"1\" class=\"dataframe\">\n",
       "  <thead>\n",
       "    <tr style=\"text-align: right;\">\n",
       "      <th></th>\n",
       "      <th>Income</th>\n",
       "    </tr>\n",
       "  </thead>\n",
       "  <tbody>\n",
       "    <tr>\n",
       "      <th>0</th>\n",
       "      <td>49</td>\n",
       "    </tr>\n",
       "    <tr>\n",
       "      <th>1</th>\n",
       "      <td>34</td>\n",
       "    </tr>\n",
       "    <tr>\n",
       "      <th>2</th>\n",
       "      <td>11</td>\n",
       "    </tr>\n",
       "    <tr>\n",
       "      <th>3</th>\n",
       "      <td>100</td>\n",
       "    </tr>\n",
       "    <tr>\n",
       "      <th>4</th>\n",
       "      <td>45</td>\n",
       "    </tr>\n",
       "    <tr>\n",
       "      <th>...</th>\n",
       "      <td>...</td>\n",
       "    </tr>\n",
       "    <tr>\n",
       "      <th>4995</th>\n",
       "      <td>40</td>\n",
       "    </tr>\n",
       "    <tr>\n",
       "      <th>4996</th>\n",
       "      <td>15</td>\n",
       "    </tr>\n",
       "    <tr>\n",
       "      <th>4997</th>\n",
       "      <td>24</td>\n",
       "    </tr>\n",
       "    <tr>\n",
       "      <th>4998</th>\n",
       "      <td>49</td>\n",
       "    </tr>\n",
       "    <tr>\n",
       "      <th>4999</th>\n",
       "      <td>83</td>\n",
       "    </tr>\n",
       "  </tbody>\n",
       "</table>\n",
       "<p>5000 rows × 1 columns</p>\n",
       "</div>"
      ],
      "text/plain": [
       "      Income\n",
       "0         49\n",
       "1         34\n",
       "2         11\n",
       "3        100\n",
       "4         45\n",
       "...      ...\n",
       "4995      40\n",
       "4996      15\n",
       "4997      24\n",
       "4998      49\n",
       "4999      83\n",
       "\n",
       "[5000 rows x 1 columns]"
      ]
     },
     "execution_count": 34,
     "metadata": {},
     "output_type": "execute_result"
    }
   ],
   "source": [
    "# Answer 16. -->  Decile value of the variable \"Income\"\n",
    "\n",
    "bank_data.iloc[:,[3]]"
   ]
  },
  {
   "cell_type": "markdown",
   "id": "c75c5d0a-2477-4066-a454-9b2b35b643f3",
   "metadata": {},
   "source": [
    "# 16.  Decile values of the variable ‘Income’ "
   ]
  },
  {
   "cell_type": "code",
   "execution_count": 35,
   "id": "e7c37ee0-baac-4505-8566-75a079fb1c2d",
   "metadata": {},
   "outputs": [
    {
     "data": {
      "text/plain": [
       "0        (42.0, 52.0]\n",
       "1        (33.0, 42.0]\n",
       "2       (7.999, 22.0]\n",
       "3       (88.3, 113.0]\n",
       "4        (42.0, 52.0]\n",
       "            ...      \n",
       "4995     (33.0, 42.0]\n",
       "4996    (7.999, 22.0]\n",
       "4997     (22.0, 33.0]\n",
       "4998     (42.0, 52.0]\n",
       "4999     (78.0, 88.3]\n",
       "Name: Income, Length: 5000, dtype: category\n",
       "Categories (10, interval[float64, right]): [(7.999, 22.0] < (22.0, 33.0] < (33.0, 42.0] < (42.0, 52.0] ... (78.0, 88.3] < (88.3, 113.0] < (113.0, 145.0] < (145.0, 224.0]]"
      ]
     },
     "execution_count": 35,
     "metadata": {},
     "output_type": "execute_result"
    }
   ],
   "source": [
    "pd.qcut(bank_data[\"Income\"], q=10)"
   ]
  },
  {
   "cell_type": "markdown",
   "id": "8330a671-8c2e-4d13-aed0-04c5956502f8",
   "metadata": {},
   "source": [
    "# 17.  IQR of quantitative and continuous variables"
   ]
  },
  {
   "cell_type": "code",
   "execution_count": 36,
   "id": "370e656e-dcf3-43d2-a012-12584bb5a119",
   "metadata": {},
   "outputs": [
    {
     "ename": "NameError",
     "evalue": "name 'Q3' is not defined",
     "output_type": "error",
     "traceback": [
      "\u001b[1;31m---------------------------------------------------------------------------\u001b[0m",
      "\u001b[1;31mNameError\u001b[0m                                 Traceback (most recent call last)",
      "Cell \u001b[1;32mIn[36], line 1\u001b[0m\n\u001b[1;32m----> 1\u001b[0m IQR \u001b[38;5;241m=\u001b[39m Q3\u001b[38;5;241m-\u001b[39mQ1\n\u001b[0;32m      3\u001b[0m bank_data\u001b[38;5;241m.\u001b[39mquantile(\u001b[38;5;241m0.75\u001b[39m) \u001b[38;5;241m-\u001b[39m bank_data\u001b[38;5;241m.\u001b[39mquantile(\u001b[38;5;241m0.25\u001b[39m)\n",
      "\u001b[1;31mNameError\u001b[0m: name 'Q3' is not defined"
     ]
    }
   ],
   "source": [
    "IQR = Q3-Q1\n",
    "\n",
    "bank_data.quantile(0.75) - bank_data.quantile(0.25) "
   ]
  },
  {
   "cell_type": "markdown",
   "id": "3b9d775d-0150-46db-bab8-0bad0e6d078a",
   "metadata": {},
   "source": [
    "# 18. Credit Card spend of higher-income holders "
   ]
  },
  {
   "cell_type": "code",
   "execution_count": 37,
   "id": "ba98908e-3159-49d0-ad17-90f9bc600681",
   "metadata": {},
   "outputs": [],
   "source": [
    "# 18. \n",
    "\n",
    "bank_data_hiholders = bank_data[[\"CCAvg\", \"Income\"]]\n"
   ]
  },
  {
   "cell_type": "code",
   "execution_count": 38,
   "id": "e0f72374-9650-47b4-a430-8a14c2e39df1",
   "metadata": {},
   "outputs": [
    {
     "data": {
      "text/html": [
       "<div>\n",
       "<style scoped>\n",
       "    .dataframe tbody tr th:only-of-type {\n",
       "        vertical-align: middle;\n",
       "    }\n",
       "\n",
       "    .dataframe tbody tr th {\n",
       "        vertical-align: top;\n",
       "    }\n",
       "\n",
       "    .dataframe thead th {\n",
       "        text-align: right;\n",
       "    }\n",
       "</style>\n",
       "<table border=\"1\" class=\"dataframe\">\n",
       "  <thead>\n",
       "    <tr style=\"text-align: right;\">\n",
       "      <th></th>\n",
       "      <th>CCAvg</th>\n",
       "      <th>Income</th>\n",
       "    </tr>\n",
       "  </thead>\n",
       "  <tbody>\n",
       "    <tr>\n",
       "      <th>0</th>\n",
       "      <td>1.6</td>\n",
       "      <td>49</td>\n",
       "    </tr>\n",
       "    <tr>\n",
       "      <th>1</th>\n",
       "      <td>1.5</td>\n",
       "      <td>34</td>\n",
       "    </tr>\n",
       "    <tr>\n",
       "      <th>2</th>\n",
       "      <td>1.0</td>\n",
       "      <td>11</td>\n",
       "    </tr>\n",
       "    <tr>\n",
       "      <th>3</th>\n",
       "      <td>2.7</td>\n",
       "      <td>100</td>\n",
       "    </tr>\n",
       "    <tr>\n",
       "      <th>4</th>\n",
       "      <td>1.0</td>\n",
       "      <td>45</td>\n",
       "    </tr>\n",
       "    <tr>\n",
       "      <th>...</th>\n",
       "      <td>...</td>\n",
       "      <td>...</td>\n",
       "    </tr>\n",
       "    <tr>\n",
       "      <th>4995</th>\n",
       "      <td>1.9</td>\n",
       "      <td>40</td>\n",
       "    </tr>\n",
       "    <tr>\n",
       "      <th>4996</th>\n",
       "      <td>0.4</td>\n",
       "      <td>15</td>\n",
       "    </tr>\n",
       "    <tr>\n",
       "      <th>4997</th>\n",
       "      <td>0.3</td>\n",
       "      <td>24</td>\n",
       "    </tr>\n",
       "    <tr>\n",
       "      <th>4998</th>\n",
       "      <td>0.5</td>\n",
       "      <td>49</td>\n",
       "    </tr>\n",
       "    <tr>\n",
       "      <th>4999</th>\n",
       "      <td>0.8</td>\n",
       "      <td>83</td>\n",
       "    </tr>\n",
       "  </tbody>\n",
       "</table>\n",
       "<p>5000 rows × 2 columns</p>\n",
       "</div>"
      ],
      "text/plain": [
       "      CCAvg  Income\n",
       "0       1.6      49\n",
       "1       1.5      34\n",
       "2       1.0      11\n",
       "3       2.7     100\n",
       "4       1.0      45\n",
       "...     ...     ...\n",
       "4995    1.9      40\n",
       "4996    0.4      15\n",
       "4997    0.3      24\n",
       "4998    0.5      49\n",
       "4999    0.8      83\n",
       "\n",
       "[5000 rows x 2 columns]"
      ]
     },
     "execution_count": 38,
     "metadata": {},
     "output_type": "execute_result"
    }
   ],
   "source": [
    "bank_data_hiholders"
   ]
  },
  {
   "cell_type": "code",
   "execution_count": 39,
   "id": "8c2a7333-3543-4218-917c-2b7439e8f1cb",
   "metadata": {},
   "outputs": [
    {
     "data": {
      "text/plain": [
       "<seaborn.axisgrid.FacetGrid at 0x23260649890>"
      ]
     },
     "execution_count": 39,
     "metadata": {},
     "output_type": "execute_result"
    },
    {
     "data": {
      "image/png": "[encoded data removed]",
      "text/plain": [
       "<Figure size 500x500 with 1 Axes>"
      ]
     },
     "metadata": {},
     "output_type": "display_data"
    }
   ],
   "source": [
    "sns.catplot(bank_data_hiholders, y = \"CCAvg\", x = \"Income\", kind = 'bar')"
   ]
  },
  {
   "cell_type": "markdown",
   "id": "f030386b-a699-4e53-adc7-97d1b28bb4e2",
   "metadata": {},
   "source": [
    "# The bar graph clearly depicts that higher income holders spend more on credit cards."
   ]
  },
  {
   "cell_type": "markdown",
   "id": "55a21998-7bea-4dc6-a0a9-bbd7f584a493",
   "metadata": {},
   "source": [
    "# 19. (i.)customers use online banking\n",
    "# (ii.)Do customers using bank internet facilities have higher incomes?"
   ]
  },
  {
   "cell_type": "code",
   "execution_count": 40,
   "id": "9030ff85-b4d5-4461-982e-aadee99a2bc2",
   "metadata": {},
   "outputs": [
    {
     "data": {
      "text/plain": [
       "Online\n",
       "1    2984\n",
       "0    2016\n",
       "Name: count, dtype: int64"
      ]
     },
     "execution_count": 40,
     "metadata": {},
     "output_type": "execute_result"
    }
   ],
   "source": [
    "# 19. (i.)\n",
    "\n",
    "bank_data[\"Online\"].value_counts()"
   ]
  },
  {
   "cell_type": "code",
   "execution_count": null,
   "id": "23de3047-b165-4e7f-aa44-ce8460505868",
   "metadata": {},
   "outputs": [],
   "source": [
    "# 19(ii.) To check if customers using bank internet facilities have higher incomes"
   ]
  },
  {
   "cell_type": "code",
   "execution_count": 41,
   "id": "c9711aca-8ba1-49e1-aec6-bccbace83cc9",
   "metadata": {},
   "outputs": [
    {
     "data": {
      "text/plain": [
       "<seaborn.axisgrid.FacetGrid at 0x232606f1d50>"
      ]
     },
     "execution_count": 41,
     "metadata": {},
     "output_type": "execute_result"
    },
    {
     "data": {
      "image/png": "[encoded data removed]",
      "text/plain": [
       "<Figure size 500x500 with 1 Axes>"
      ]
     },
     "metadata": {},
     "output_type": "display_data"
    }
   ],
   "source": [
    "sns.catplot(data = bank_data, x = \"Online\", y = \"Income\", kind = \"bar\")"
   ]
  },
  {
   "cell_type": "markdown",
   "id": "9d3094a5-77b1-4d38-85a8-76d8f12a3e39",
   "metadata": {},
   "source": [
    "#   2984 customers are using Online Banking. \n",
    "## It can be clearly observed from the bar graph that there is not much differnce betweem the Income of both kind of customers.  "
   ]
  },
  {
   "cell_type": "markdown",
   "id": "1ea2471b-0a51-4581-b125-01b81a144289",
   "metadata": {},
   "source": [
    "# 20.  Using the z-score of the income variable, find out the number of observations outside the +-3σ."
   ]
  },
  {
   "cell_type": "code",
   "execution_count": 42,
   "id": "02cf8cae-b874-443c-b4f3-4c5f487b12f9",
   "metadata": {},
   "outputs": [],
   "source": [
    "# 20. \n",
    "\n",
    "import scipy.stats as stats"
   ]
  },
  {
   "cell_type": "code",
   "execution_count": 43,
   "id": "a611bd68-682e-4d27-af5c-0c8aec50cd3e",
   "metadata": {},
   "outputs": [
    {
     "data": {
      "text/plain": [
       "0      -0.538229\n",
       "1      -0.864109\n",
       "2      -1.363793\n",
       "3       0.569765\n",
       "4      -0.625130\n",
       "          ...   \n",
       "4995   -0.733757\n",
       "4996   -1.276892\n",
       "4997   -1.081363\n",
       "4998   -0.538229\n",
       "4999    0.200434\n",
       "Name: Income, Length: 5000, dtype: float64"
      ]
     },
     "execution_count": 43,
     "metadata": {},
     "output_type": "execute_result"
    }
   ],
   "source": [
    "stats.zscore(bank_data[\"Income\"])"
   ]
  },
  {
   "cell_type": "code",
   "execution_count": 44,
   "id": "bc63ec67-b804-42d7-a0b8-ed207ad6cdfe",
   "metadata": {},
   "outputs": [
    {
     "data": {
      "text/plain": [
       "<Axes: >"
      ]
     },
     "execution_count": 44,
     "metadata": {},
     "output_type": "execute_result"
    },
    {
     "data": {
      "image/png": "[encoded data removed]",
      "text/plain": [
       "<Figure size 640x480 with 1 Axes>"
      ]
     },
     "metadata": {},
     "output_type": "display_data"
    }
   ],
   "source": [
    "bank_data_z = stats.zscore(bank_data[\"Income\"])\n",
    "sns.boxplot(data = bank_data_z)"
   ]
  },
  {
   "cell_type": "code",
   "execution_count": 45,
   "id": "8df1f2f6-2aa5-48ed-ab38-9b48360f32ba",
   "metadata": {},
   "outputs": [
    {
     "name": "stdout",
     "output_type": "stream",
     "text": [
      "6\n",
      "0\n"
     ]
    }
   ],
   "source": [
    "threshold_max = 3\n",
    "threshold_min =-3\n",
    "\n",
    "outlier_max = []\n",
    "outlier_min = []\n",
    "\n",
    "for i in z:\n",
    "    if i > threshold_max:\n",
    "        outlier_max.append(i)\n",
    "    elif i < threshold_min:\n",
    "        outlier_min.append(i)\n",
    "        \n",
    "print(len(outlier_max))\n",
    "print(len(outlier_min))"
   ]
  },
  {
   "cell_type": "code",
   "execution_count": null,
   "id": "c5389893-badd-4e3f-b8c5-295d5f6e8a9b",
   "metadata": {},
   "outputs": [],
   "source": []
  }
 ],
 "metadata": {
  "kernelspec": {
   "display_name": "Python 3 (ipykernel)",
   "language": "python",
   "name": "python3"
  },
  "language_info": {
   "codemirror_mode": {
    "name": "ipython",
    "version": 3
   },
   "file_extension": ".py",
   "mimetype": "text/x-python",
   "name": "python",
   "nbconvert_exporter": "python",
   "pygments_lexer": "ipython3",
   "version": "3.11.7"
  }
 },
 "nbformat": 4,
 "nbformat_minor": 5
}
